{
  "nbformat": 4,
  "nbformat_minor": 0,
  "metadata": {
    "colab": {
      "provenance": []
    },
    "kernelspec": {
      "name": "python3",
      "display_name": "Python 3"
    },
    "language_info": {
      "name": "python"
    }
  },
  "cells": [
    {
      "cell_type": "code",
      "execution_count": null,
      "metadata": {
        "id": "x_9zxAKxuH6j"
      },
      "outputs": [],
      "source": [
        "import pandas as pd\n",
        "from copy import deepcopy"
      ]
    },
    {
      "cell_type": "code",
      "source": [
        "\n",
        "\n",
        "# ----------------------------\n",
        "# Columns based on the master dataset\n",
        "# ----------------------------\n",
        "columns_master = [\n",
        "    'CORPORATE_IDENTIFICATION_NUMBER', 'COMPANY_NAME', 'COMPANY_STATUS',\n",
        "    'COMPANY_CLASS', 'COMPANY_CATEGORY', 'COMPANY_SUB_CATEGORY',\n",
        "    'DATE_OF_REGISTRATION', 'REGISTERED_STATE', 'AUTHORIZED_CAP',\n",
        "    'PAIDUP_CAPITAL', 'INDUSTRIAL_CLASS',\n",
        "    'PRINCIPAL_BUSINESS_ACTIVITY_AS_PER_CIN', 'REGISTERED_OFFICE_ADDRESS',\n",
        "    'REGISTRAR_OF_COMPANIES', 'EMAIL_ADDR', 'LATEST_YEAR_ANNUAL_RETURN',\n",
        "    'LATEST_YEAR_FINANCIAL_STATEMENT', 'STATE'\n",
        "]\n",
        "\n",
        "# ----------------------------\n",
        "# 1️⃣ Day 1 - Base Dataset\n",
        "# ----------------------------\n",
        "day1_data = [\n",
        "    [\"U12345MH2010PLC100001\", \"Alpha Tech Pvt Ltd\", \"Active\", \"Private\", \"Limited\", \"By Shares\",\n",
        "     \"2010-05-12\", \"Maharashtra\", 5000000, 5000000, \"Manufacturing\",\n",
        "     \"Software Development\", \"Mumbai Office, Mumbai\", \"ROC-Mumbai\", \"alpha@tech.com\", 2023, 2023, \"MH\"],\n",
        "\n",
        "    [\"U23456GJ2012PLC200002\", \"Beta Corp Ltd\", \"Active\", \"Private\", \"Limited\", \"By Shares\",\n",
        "     \"2012-11-23\", \"Gujarat\", 8000000, 7500000, \"Construction\",\n",
        "     \"Construction Services\", \"Ahmedabad Office, Ahmedabad\", \"ROC-Ahmedabad\", \"beta@corp.com\", 2023, 2023, \"GJ\"],\n",
        "\n",
        "    [\"U34567DL2015PLC300003\", \"Gamma Solutions Pvt Ltd\", \"Strike Off\", \"Private\", \"Limited\", \"By Shares\",\n",
        "     \"2015-07-10\", \"Delhi\", 12000000, 12000000, \"IT Services\",\n",
        "     \"IT Consulting\", \"Delhi Office, Delhi\", \"ROC-Delhi\", \"gamma@solutions.com\", 2023, 2023, \"DL\"],\n",
        "\n",
        "    [\"U45678TN2018PLC400004\", \"Delta Industries Ltd\", \"Active\", \"Public\", \"Limited\", \"By Shares\",\n",
        "     \"2018-02-19\", \"Tamil Nadu\", 15000000, 14500000, \"Textiles\",\n",
        "     \"Textile Manufacturing\", \"Chennai Office, Chennai\", \"ROC-Chennai\", \"delta@industries.com\", 2023, 2023, \"TN\"],\n",
        "\n",
        "    [\"U56789KA2020PLC500005\", \"Epsilon Traders Pvt Ltd\", \"Active\", \"Private\", \"Limited\", \"By Shares\",\n",
        "     \"2020-09-01\", \"Karnataka\", 6000000, 5500000, \"Retail\",\n",
        "     \"Retail Services\", \"Bangalore Office, Bangalore\", \"ROC-Bangalore\", \"epsilon@traders.com\", 2023, 2023, \"KA\"]\n",
        "]\n",
        "\n",
        "day1 = pd.DataFrame(day1_data, columns=columns_master)\n",
        "day1.to_csv(\"day1_master.csv\", index=False)\n",
        "print(\"✅ day1_master.csv created\")\n",
        "\n",
        "# ----------------------------\n",
        "# 2️⃣ Day 2 - Simulate Updates\n",
        "# ----------------------------\n",
        "day2 = deepcopy(day1)\n",
        "\n",
        "# a) Add a new company\n",
        "new_company_day2 = [\n",
        "    \"U67890MH2021PLC600006\", \"Zeta Innovations Pvt Ltd\", \"Active\", \"Private\", \"Limited\", \"By Shares\",\n",
        "    \"2021-06-15\", \"Maharashtra\", 7000000, 6500000, \"FinTech\",\n",
        "    \"Financial Services\", \"Mumbai Office, Mumbai\", \"ROC-Mumbai\", \"zeta@innovations.com\", 2023, 2023, \"MH\"\n",
        "]\n",
        "day2 = pd.concat([day2, pd.DataFrame([new_company_day2], columns=columns_master)], ignore_index=True)\n",
        "\n",
        "# b) Remove a company (simulate deregistration)\n",
        "day2 = day2[day2[\"CORPORATE_IDENTIFICATION_NUMBER\"] != \"U34567DL2015PLC300003\"]\n",
        "\n",
        "# c) Update fields for some companies\n",
        "day2.loc[day2[\"CORPORATE_IDENTIFICATION_NUMBER\"] == \"U45678TN2018PLC400004\", \"COMPANY_STATUS\"] = \"Amalgamated\"\n",
        "day2.loc[day2[\"CORPORATE_IDENTIFICATION_NUMBER\"] == \"U23456GJ2012PLC200002\", \"AUTHORIZED_CAP\"] = 9000000\n",
        "\n",
        "day2.to_csv(\"day2_master.csv\", index=False)\n",
        "print(\"✅ day2_master.csv created\")\n",
        "\n",
        "# ----------------------------\n",
        "# 3️⃣ Day 3 - More Updates\n",
        "# ----------------------------\n",
        "day3 = deepcopy(day2)\n",
        "\n",
        "# a) Add another new company\n",
        "new_company_day3 = [\n",
        "    \"U78901KA2023PLC700007\", \"Theta Systems Ltd\", \"Active\", \"Private\", \"Limited\", \"By Shares\",\n",
        "    \"2023-03-22\", \"Karnataka\", 10000000, 9000000, \"Software\",\n",
        "    \"Software Development\", \"Bangalore Office, Bangalore\", \"ROC-Bangalore\", \"theta@systems.com\", 2023, 2023, \"KA\"\n",
        "]\n",
        "day3 = pd.concat([day3, pd.DataFrame([new_company_day3], columns=columns_master)], ignore_index=True)\n",
        "\n",
        "# b) Change company status\n",
        "day3.loc[day3[\"CORPORATE_IDENTIFICATION_NUMBER\"] == \"U56789KA2020PLC500005\", \"COMPANY_STATUS\"] = \"Strike Off\"\n",
        "\n",
        "# c) Modify paid-up capital\n",
        "day3.loc[day3[\"CORPORATE_IDENTIFICATION_NUMBER\"] == \"U12345MH2010PLC100001\", \"PAIDUP_CAPITAL\"] = 5200000\n",
        "\n",
        "day3.to_csv(\"day3_master.csv\", index=False)\n",
        "print(\"✅ day3_master.csv created\")\n",
        "\n",
        "print(\"\\n🎉 Simulation Complete! Files generated:\")\n",
        "print(\" - day1_master.csv\")\n",
        "print(\" - day2_master.csv\")\n",
        "print(\" - day3_master.csv\")\n",
        "\n"
      ],
      "metadata": {
        "colab": {
          "base_uri": "https://localhost:8080/"
        },
        "id": "PqmvxMXguVVx",
        "outputId": "9b651b9b-253e-4a9e-818b-a6b482fd988e"
      },
      "execution_count": null,
      "outputs": [
        {
          "output_type": "stream",
          "name": "stdout",
          "text": [
            "✅ day1_master.csv created\n",
            "✅ day2_master.csv created\n",
            "✅ day3_master.csv created\n",
            "\n",
            "🎉 Simulation Complete! Files generated:\n",
            " - day1_master.csv\n",
            " - day2_master.csv\n",
            " - day3_master.csv\n"
          ]
        }
      ]
    }
  ]
}