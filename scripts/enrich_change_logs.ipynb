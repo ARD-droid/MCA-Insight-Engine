{
  "nbformat": 4,
  "nbformat_minor": 0,
  "metadata": {
    "colab": {
      "provenance": []
    },
    "kernelspec": {
      "name": "python3",
      "display_name": "Python 3"
    },
    "language_info": {
      "name": "python"
    }
  },
  "cells": [
    {
      "cell_type": "code",
      "execution_count": null,
      "metadata": {
        "id": "46GxbEeT8Mwi"
      },
      "outputs": [],
      "source": [
        "import pandas as pd\n",
        "import os"
      ]
    },
    {
      "cell_type": "code",
      "source": [
        "change_logs = [\n",
        "    \"data/changelogs/Day2_changes.csv\",\n",
        "    \"data/changelogs/Day3_changes.csv\"\n",
        "]\n",
        "\n",
        "enriched_folder = \"data/enriched/\"\n",
        "os.makedirs(enriched_folder, exist_ok=True)\n",
        "\n",
        "# Columns for enriched dataset\n",
        "enriched_columns = [\n",
        "    \"CIN\", \"COMPANY_NAME\", \"STATE\", \"STATUS\",\n",
        "    \"SOURCE\", \"FIELD\", \"SOURCE_URL\", \"SECTOR\", \"DIRECTORS\", \"REGISTERED_OFFICE\"\n",
        "]\n",
        "\n",
        "# Empty list to store enriched data\n",
        "enriched_data = []\n",
        "\n",
        "# Loop through change logs\n",
        "for log_file in change_logs:\n",
        "    df = pd.read_csv(log_file)\n",
        "\n",
        "    # Take a sample or all companies\n",
        "    sample_df = df.head(50)  # change to len(df) if you want all\n",
        "\n",
        "    for idx, row in sample_df.iterrows():\n",
        "        # Simulated enrichment (for now, using dummy values or placeholders)\n",
        "        enriched_data.append({\n",
        "            \"CIN\": row[\"CIN\"],\n",
        "            \"COMPANY_NAME\": row[\"CIN\"],  # For demo, replace with real company name from log if available\n",
        "            \"STATE\": row.get(\"Date\", \"\"),  # Using Date column as placeholder for demo\n",
        "            \"STATUS\": row.get(\"Change_Type\", \"\"),\n",
        "            \"SOURCE\": \"Simulated\",  # e.g., ZaubaCorp/API\n",
        "            \"FIELD\": row.get(\"Field_Changed\", \"\"),\n",
        "            \"SOURCE_URL\": \"https://www.zaubacorp.com/\",  # placeholder\n",
        "            \"SECTOR\": \"IT/Services\",  # placeholder\n",
        "            \"DIRECTORS\": \"John Doe\",  # placeholder\n",
        "            \"REGISTERED_OFFICE\": \"Mumbai\"  # placeholder\n",
        "        })\n",
        "\n",
        "# Convert to DataFrame and save\n",
        "enriched_df = pd.DataFrame(enriched_data, columns=enriched_columns)\n",
        "output_file = os.path.join(enriched_folder, \"enriched_sample.csv\")\n",
        "enriched_df.to_csv(output_file, index=False)\n",
        "print(f\"✅ Enriched dataset saved: {output_file}\")"
      ],
      "metadata": {
        "id": "lP7GYnWxL-jp"
      },
      "execution_count": null,
      "outputs": []
    },
    {
      "cell_type": "code",
      "source": [
        "change_logs = [\n",
        "    \"/content/MCA-Insight-Engine/Data/Change logs/Day2_changes.csv\",\n",
        "    \"/content/MCA-Insight-Engine/Data/Change logs/Day3_changes.csv\"\n",
        "]\n",
        "\n",
        "enriched_folder = \"/content/MCA-Insight-Engine/Data/Enriched\"\n",
        "os.makedirs(enriched_folder, exist_ok=True)\n",
        "\n",
        "# Columns for enriched dataset\n",
        "enriched_columns = [\n",
        "    \"CIN\", \"COMPANY_NAME\", \"STATE\", \"STATUS\",\n",
        "    \"SOURCE\", \"FIELD\", \"SOURCE_URL\", \"SECTOR\", \"DIRECTORS\", \"REGISTERED_OFFICE\"\n",
        "]\n",
        "\n",
        "# Empty list to store enriched data\n",
        "enriched_data = []\n",
        "\n",
        "# Loop through change logs\n",
        "for log_file in change_logs:\n",
        "    df = pd.read_csv(log_file)\n",
        "\n",
        "    # Take a sample or all companies\n",
        "    sample_df = df.head(50)  # change to len(df) if you want all\n",
        "\n",
        "    for idx, row in sample_df.iterrows():\n",
        "        # Simulated enrichment (for now, using dummy values or placeholders)\n",
        "        enriched_data.append({\n",
        "            \"CIN\": row[\"CIN\"],\n",
        "            \"COMPANY_NAME\": row[\"CIN\"],  # For demo, replace with real company name from log if available\n",
        "            \"STATE\": row.get(\"Date\", \"\"),  # Using Date column as placeholder for demo\n",
        "            \"STATUS\": row.get(\"Change_Type\", \"\"),\n",
        "            \"SOURCE\": \"Simulated\",  # e.g., ZaubaCorp/API\n",
        "            \"FIELD\": row.get(\"Field_Changed\", \"\"),\n",
        "            \"SOURCE_URL\": \"https://www.zaubacorp.com/\",  # placeholder\n",
        "            \"SECTOR\": \"IT/Services\",  # placeholder\n",
        "            \"DIRECTORS\": \"John Doe\",  # placeholder\n",
        "            \"REGISTERED_OFFICE\": \"Mumbai\"  # placeholder\n",
        "        })\n",
        "\n",
        "# Convert to DataFrame and save\n",
        "enriched_df = pd.DataFrame(enriched_data, columns=enriched_columns)\n",
        "output_file = os.path.join(enriched_folder, \"enriched_sample.csv\")\n",
        "enriched_df.to_csv(output_file, index=False)\n",
        "print(f\"✅ Enriched dataset saved: {output_file}\")"
      ],
      "metadata": {
        "colab": {
          "base_uri": "https://localhost:8080/"
        },
        "id": "DnIuAy1SMbTE",
        "outputId": "4c3fce07-6136-4908-b85a-f0c14e7cb929"
      },
      "execution_count": null,
      "outputs": [
        {
          "output_type": "stream",
          "name": "stdout",
          "text": [
            "✅ Enriched dataset saved: /content/MCA-Insight-Engine/Data/Enriched/enriched_sample.csv\n"
          ]
        }
      ]
    }
  ]
}