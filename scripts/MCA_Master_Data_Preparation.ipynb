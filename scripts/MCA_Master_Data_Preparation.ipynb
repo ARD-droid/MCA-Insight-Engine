{
  "nbformat": 4,
  "nbformat_minor": 0,
  "metadata": {
    "colab": {
      "provenance": []
    },
    "kernelspec": {
      "name": "python3",
      "display_name": "Python 3"
    },
    "language_info": {
      "name": "python"
    }
  },
  "cells": [
    {
      "cell_type": "code",
      "execution_count": null,
      "metadata": {
        "collapsed": true,
        "id": "s5TcUgVB_cRt"
      },
      "outputs": [],
      "source": [
        "import pandas as pd\n",
        "import numpy as np"
      ]
    },
    {
      "cell_type": "code",
      "source": [
        "## checking for missing values\n",
        "df_maharastra=pd.read_csv('/content/Data_Gov_Maharashtra.csv',encoding='ISO-8859-1', low_memory=False)\n",
        "df_Delhi=pd.read_csv('/content/Data_Gov_Delhi.csv',encoding='ISO-8859-1', low_memory=False)\n",
        "df_Gujrat=pd.read_csv('/content/Data_Gov_Gujarat.csv',encoding='ISO-8859-1', low_memory=False)\n",
        "df_Karanataka=pd.read_csv('/content/Data_Gov_Karnataka.csv',encoding='ISO-8859-1', low_memory=False)\n",
        "df_Tamil_Nadu=pd.read_csv('/content/Data_Gov_Tamil_Nadu.csv',encoding='ISO-8859-1', low_memory=False)\n",
        "\n",
        "print(df_Gujrat.columns)   #True/False per column.\n",
        "\n"
      ],
      "metadata": {
        "collapsed": true,
        "id": "MrjDu7rsDUZC",
        "colab": {
          "base_uri": "https://localhost:8080/"
        },
        "outputId": "91149865-49e0-4d72-dbf5-9fea7ed8e8b6"
      },
      "execution_count": null,
      "outputs": [
        {
          "output_type": "stream",
          "name": "stdout",
          "text": [
            "Index(['te\"', 'Company limited by Shares', 'Non-govt company', '23-08-2013',\n",
            "       'Gujarat', '400000.00', '400000.00.1', '74140',\n",
            "       'Real estate renting and business activities',\n",
            "       'SHOP NO-F F-32,SHIDDHI CHAKRAOPP. VISHAT PETROL PUMP SABARMATI  ',\n",
            "       'ROC AHMEDABAD', 'rakeshmalviya036@gmail.com', 'NA', 'NA.1'],\n",
            "      dtype='object')\n"
          ]
        }
      ]
    },
    {
      "cell_type": "code",
      "source": [
        "# Droping the duplicate row if any according to unique CIN number\n",
        "df_maharastra.drop_duplicates(subset='CORPORATE_IDENTIFICATION_NUMBER',inplace=True)\n",
        "df_Delhi.drop_duplicates(subset='CORPORATE_IDENTIFICATION_NUMBER',inplace=True)"
      ],
      "metadata": {
        "id": "tSURQVb0Razf"
      },
      "execution_count": null,
      "outputs": []
    },
    {
      "cell_type": "code",
      "source": [
        "print(df_maharastra.dtypes)\n",
        "print(df_maharastra.dtypes)\n",
        "print(df_Delhi.dtypes)\n",
        "print(df_Tamil_Nadu.dtypes)\n",
        "print(df_Karanataka.dtypes)\n",
        "print(df_Gujrat.dtypes)"
      ],
      "metadata": {
        "colab": {
          "base_uri": "https://localhost:8080/"
        },
        "id": "FfcTnyk5ULiO",
        "outputId": "cafd3931-8a01-4c68-a41a-e2477cc51635",
        "collapsed": true
      },
      "execution_count": null,
      "outputs": [
        {
          "output_type": "stream",
          "name": "stdout",
          "text": [
            " by Shares\"                                                object\n",
            "Non-govt company                                           object\n",
            "26-09-2011                                                 object\n",
            "Maharashtra                                                object\n",
            "100000.00                                                 float64\n",
            "100000.00.1                                               float64\n",
            "72900                                                      object\n",
            "Real estate renting and business activities                object\n",
            "111/9 ERANDAWANE, 201, ADHWAR14TH LANE, PRABHAT ROAD       object\n",
            "ROC PUNE                                                   object\n",
            "sbmujumdar@denetpl.com                                     object\n",
            "31-03-2019                                                 object\n",
            "31-03-2019.1                                               object\n",
            "dtype: object\n",
            " by Shares\"                                                object\n",
            "Non-govt company                                           object\n",
            "26-09-2011                                                 object\n",
            "Maharashtra                                                object\n",
            "100000.00                                                 float64\n",
            "100000.00.1                                               float64\n",
            "72900                                                      object\n",
            "Real estate renting and business activities                object\n",
            "111/9 ERANDAWANE, 201, ADHWAR14TH LANE, PRABHAT ROAD       object\n",
            "ROC PUNE                                                   object\n",
            "sbmujumdar@denetpl.com                                     object\n",
            "31-03-2019                                                 object\n",
            "31-03-2019.1                                               object\n",
            "dtype: object\n",
            "wow@womenonwalk.com\"    object\n",
            "NA                      object\n",
            "NA.1                    object\n",
            "dtype: object\n",
            "CORPORATE_IDENTIFICATION_NUMBER            object\n",
            "COMPANY_NAME                               object\n",
            "COMPANY_STATUS                             object\n",
            "COMPANY_CLASS                              object\n",
            "COMPANY_CATEGORY                           object\n",
            "COMPANY_SUB_CATEGORY                       object\n",
            "DATE_OF_REGISTRATION                       object\n",
            "REGISTERED_STATE                           object\n",
            "AUTHORIZED_CAP                            float64\n",
            "PAIDUP_CAPITAL                            float64\n",
            "INDUSTRIAL_CLASS                           object\n",
            "PRINCIPAL_BUSINESS_ACTIVITY_AS_PER_CIN     object\n",
            "REGISTERED_OFFICE_ADDRESS                  object\n",
            "REGISTRAR_OF_COMPANIES                     object\n",
            "EMAIL_ADDR                                 object\n",
            "LATEST_YEAR_ANNUAL_RETURN                  object\n",
            "LATEST_YEAR_FINANCIAL_STATEMENT            object\n",
            "dtype: object\n",
            "CORPORATE_IDENTIFICATION_NUMBER            object\n",
            "COMPANY_NAME                               object\n",
            "COMPANY_STATUS                             object\n",
            "COMPANY_CLASS                              object\n",
            "COMPANY_CATEGORY                           object\n",
            "COMPANY_SUB_CATEGORY                       object\n",
            "DATE_OF_REGISTRATION                       object\n",
            "REGISTERED_STATE                           object\n",
            "AUTHORIZED_CAP                            float64\n",
            "PAIDUP_CAPITAL                            float64\n",
            "INDUSTRIAL_CLASS                           object\n",
            "PRINCIPAL_BUSINESS_ACTIVITY_AS_PER_CIN     object\n",
            "REGISTERED_OFFICE_ADDRESS                  object\n",
            "REGISTRAR_OF_COMPANIES                     object\n",
            "EMAIL_ADDR                                 object\n",
            "LATEST_YEAR_ANNUAL_RETURN                  object\n",
            "LATEST_YEAR_FINANCIAL_STATEMENT            object\n",
            "dtype: object\n",
            "te\"                                                                  object\n",
            "Company limited by Shares                                            object\n",
            "Non-govt company                                                     object\n",
            "23-08-2013                                                           object\n",
            "Gujarat                                                              object\n",
            "400000.00                                                           float64\n",
            "400000.00.1                                                         float64\n",
            "74140                                                                 int64\n",
            "Real estate renting and business activities                          object\n",
            "SHOP NO-F F-32,SHIDDHI CHAKRAOPP. VISHAT PETROL PUMP SABARMATI       object\n",
            "ROC AHMEDABAD                                                        object\n",
            "rakeshmalviya036@gmail.com                                           object\n",
            "NA                                                                   object\n",
            "NA.1                                                                 object\n",
            "dtype: object\n"
          ]
        }
      ]
    },
    {
      "cell_type": "code",
      "source": [
        "def clean_state_data(x):\n",
        "  # Droping the duplicate row if any according to unique CIN number\n",
        " x.drop_duplicates(inplace=True)\n",
        "\n",
        "\n",
        " ## Filling missing values for object columns\n",
        " obj_coloum=x.select_dtypes(include='object').columns\n",
        " x[obj_coloum] = x[obj_coloum].replace(r'^\\s*$', np.nan, regex=True)\n",
        " for col in obj_coloum:\n",
        "  x[col].fillna(\"\",inplace=True)\n",
        "\n",
        " ## Filling missing values for numeric columns\n",
        " Num_col=x.select_dtypes(include=['number']).columns\n",
        " for col in Num_col:\n",
        "  x[col].fillna(x[col].median(),inplace=True)\n",
        "\n",
        " return x\n",
        "\n",
        "df_maha_clean=clean_state_data(df_maharastra)\n",
        "df_delhi_clean=clean_state_data(df_Delhi)\n",
        "df_Gujrat_clean=clean_state_data(df_Gujrat)\n",
        "df_Karnataka_clean=clean_state_data(df_Karanataka)\n",
        "df_Tamilnadu_clean=clean_state_data(df_Tamil_Nadu)"
      ],
      "metadata": {
        "colab": {
          "base_uri": "https://localhost:8080/"
        },
        "id": "o2DqE-8XprJ4",
        "outputId": "f9d0acba-ebd2-4d21-bae0-9e284c0cf2ac",
        "collapsed": true
      },
      "execution_count": null,
      "outputs": [
        {
          "output_type": "stream",
          "name": "stderr",
          "text": [
            "/tmp/ipython-input-3329857824.py:10: FutureWarning: A value is trying to be set on a copy of a DataFrame or Series through chained assignment using an inplace method.\n",
            "The behavior will change in pandas 3.0. This inplace method will never work because the intermediate object on which we are setting values always behaves as a copy.\n",
            "\n",
            "For example, when doing 'df[col].method(value, inplace=True)', try using 'df.method({col: value}, inplace=True)' or df[col] = df[col].method(value) instead, to perform the operation inplace on the original object.\n",
            "\n",
            "\n",
            "  x[col].fillna(\"\",inplace=True)\n",
            "/tmp/ipython-input-3329857824.py:15: FutureWarning: A value is trying to be set on a copy of a DataFrame or Series through chained assignment using an inplace method.\n",
            "The behavior will change in pandas 3.0. This inplace method will never work because the intermediate object on which we are setting values always behaves as a copy.\n",
            "\n",
            "For example, when doing 'df[col].method(value, inplace=True)', try using 'df.method({col: value}, inplace=True)' or df[col] = df[col].method(value) instead, to perform the operation inplace on the original object.\n",
            "\n",
            "\n",
            "  x[col].fillna(x[col].median(),inplace=True)\n",
            "/tmp/ipython-input-3329857824.py:10: FutureWarning: A value is trying to be set on a copy of a DataFrame or Series through chained assignment using an inplace method.\n",
            "The behavior will change in pandas 3.0. This inplace method will never work because the intermediate object on which we are setting values always behaves as a copy.\n",
            "\n",
            "For example, when doing 'df[col].method(value, inplace=True)', try using 'df.method({col: value}, inplace=True)' or df[col] = df[col].method(value) instead, to perform the operation inplace on the original object.\n",
            "\n",
            "\n",
            "  x[col].fillna(\"\",inplace=True)\n",
            "/tmp/ipython-input-3329857824.py:10: FutureWarning: A value is trying to be set on a copy of a DataFrame or Series through chained assignment using an inplace method.\n",
            "The behavior will change in pandas 3.0. This inplace method will never work because the intermediate object on which we are setting values always behaves as a copy.\n",
            "\n",
            "For example, when doing 'df[col].method(value, inplace=True)', try using 'df.method({col: value}, inplace=True)' or df[col] = df[col].method(value) instead, to perform the operation inplace on the original object.\n",
            "\n",
            "\n",
            "  x[col].fillna(\"\",inplace=True)\n",
            "/tmp/ipython-input-3329857824.py:15: FutureWarning: A value is trying to be set on a copy of a DataFrame or Series through chained assignment using an inplace method.\n",
            "The behavior will change in pandas 3.0. This inplace method will never work because the intermediate object on which we are setting values always behaves as a copy.\n",
            "\n",
            "For example, when doing 'df[col].method(value, inplace=True)', try using 'df.method({col: value}, inplace=True)' or df[col] = df[col].method(value) instead, to perform the operation inplace on the original object.\n",
            "\n",
            "\n",
            "  x[col].fillna(x[col].median(),inplace=True)\n",
            "/tmp/ipython-input-3329857824.py:10: FutureWarning: A value is trying to be set on a copy of a DataFrame or Series through chained assignment using an inplace method.\n",
            "The behavior will change in pandas 3.0. This inplace method will never work because the intermediate object on which we are setting values always behaves as a copy.\n",
            "\n",
            "For example, when doing 'df[col].method(value, inplace=True)', try using 'df.method({col: value}, inplace=True)' or df[col] = df[col].method(value) instead, to perform the operation inplace on the original object.\n",
            "\n",
            "\n",
            "  x[col].fillna(\"\",inplace=True)\n",
            "/tmp/ipython-input-3329857824.py:15: FutureWarning: A value is trying to be set on a copy of a DataFrame or Series through chained assignment using an inplace method.\n",
            "The behavior will change in pandas 3.0. This inplace method will never work because the intermediate object on which we are setting values always behaves as a copy.\n",
            "\n",
            "For example, when doing 'df[col].method(value, inplace=True)', try using 'df.method({col: value}, inplace=True)' or df[col] = df[col].method(value) instead, to perform the operation inplace on the original object.\n",
            "\n",
            "\n",
            "  x[col].fillna(x[col].median(),inplace=True)\n",
            "/tmp/ipython-input-3329857824.py:10: FutureWarning: A value is trying to be set on a copy of a DataFrame or Series through chained assignment using an inplace method.\n",
            "The behavior will change in pandas 3.0. This inplace method will never work because the intermediate object on which we are setting values always behaves as a copy.\n",
            "\n",
            "For example, when doing 'df[col].method(value, inplace=True)', try using 'df.method({col: value}, inplace=True)' or df[col] = df[col].method(value) instead, to perform the operation inplace on the original object.\n",
            "\n",
            "\n",
            "  x[col].fillna(\"\",inplace=True)\n",
            "/tmp/ipython-input-3329857824.py:15: FutureWarning: A value is trying to be set on a copy of a DataFrame or Series through chained assignment using an inplace method.\n",
            "The behavior will change in pandas 3.0. This inplace method will never work because the intermediate object on which we are setting values always behaves as a copy.\n",
            "\n",
            "For example, when doing 'df[col].method(value, inplace=True)', try using 'df.method({col: value}, inplace=True)' or df[col] = df[col].method(value) instead, to perform the operation inplace on the original object.\n",
            "\n",
            "\n",
            "  x[col].fillna(x[col].median(),inplace=True)\n"
          ]
        }
      ]
    },
    {
      "cell_type": "code",
      "source": [
        "print(df_Gujrat_clean.isnull().any())"
      ],
      "metadata": {
        "colab": {
          "base_uri": "https://localhost:8080/"
        },
        "collapsed": true,
        "id": "i7Au-xUeEp30",
        "outputId": "1739f399-2549-4968-d114-70c8e966fad6"
      },
      "execution_count": null,
      "outputs": [
        {
          "output_type": "stream",
          "name": "stdout",
          "text": [
            "te\"                                                                 False\n",
            "Company limited by Shares                                           False\n",
            "Non-govt company                                                    False\n",
            "23-08-2013                                                          False\n",
            "Gujarat                                                             False\n",
            "400000.00                                                           False\n",
            "400000.00.1                                                         False\n",
            "74140                                                               False\n",
            "Real estate renting and business activities                         False\n",
            "SHOP NO-F F-32,SHIDDHI CHAKRAOPP. VISHAT PETROL PUMP SABARMATI      False\n",
            "ROC AHMEDABAD                                                       False\n",
            "rakeshmalviya036@gmail.com                                          False\n",
            "NA                                                                  False\n",
            "NA.1                                                                False\n",
            "STATE                                                               False\n",
            "dtype: bool\n"
          ]
        }
      ]
    },
    {
      "cell_type": "code",
      "source": [
        "df_maha_clean['STATE'] = 'Maharashtra'\n",
        "df_delhi_clean['STATE'] = 'Delhi'\n",
        "df_Gujrat_clean['STATE'] = 'Gujarat'\n",
        "df_Karnataka_clean['STATE'] = 'Karnataka'\n",
        "df_Tamilnadu_clean['STATE'] = 'Tamil Nadu'\n",
        "\n",
        "columns_master = [\n",
        "    'CORPORATE_IDENTIFICATION_NUMBER', 'COMPANY_NAME', 'COMPANY_STATUS',\n",
        "    'COMPANY_CLASS', 'COMPANY_CATEGORY', 'COMPANY_SUB_CATEGORY',\n",
        "    'DATE_OF_REGISTRATION', 'REGISTERED_STATE', 'AUTHORIZED_CAP',\n",
        "    'PAIDUP_CAPITAL', 'INDUSTRIAL_CLASS',\n",
        "    'PRINCIPAL_BUSINESS_ACTIVITY_AS_PER_CIN', 'REGISTERED_OFFICE_ADDRESS',\n",
        "    'REGISTRAR_OF_COMPANIES', 'EMAIL_ADDR', 'LATEST_YEAR_ANNUAL_RETURN',\n",
        "    'LATEST_YEAR_FINANCIAL_STATEMENT', 'STATE'\n",
        "]\n",
        "\n",
        "master_df = pd.concat([df_maha_clean, df_delhi_clean, df_Gujrat_clean, df_Karnataka_clean, df_Tamilnadu_clean], ignore_index=True)\n",
        "\n",
        "# Enforce column order\n",
        "master_df = master_df[columns_master]\n",
        "\n",
        "# Save to CSV\n",
        "master_df=clean_state_data(master_df)\n",
        "master_df.to_csv('/content/MCA-Insight-Engine/Data/Master Data/Master_Company_Data.csv', index=False)\n"
      ],
      "metadata": {
        "colab": {
          "base_uri": "https://localhost:8080/"
        },
        "id": "2Nse7fUC_m_V",
        "outputId": "9c0ad035-212e-4ba9-e8ef-6f4b8ae89bf8",
        "collapsed": true
      },
      "execution_count": null,
      "outputs": [
        {
          "output_type": "stream",
          "name": "stderr",
          "text": [
            "/tmp/ipython-input-3329857824.py:10: FutureWarning: A value is trying to be set on a copy of a DataFrame or Series through chained assignment using an inplace method.\n",
            "The behavior will change in pandas 3.0. This inplace method will never work because the intermediate object on which we are setting values always behaves as a copy.\n",
            "\n",
            "For example, when doing 'df[col].method(value, inplace=True)', try using 'df.method({col: value}, inplace=True)' or df[col] = df[col].method(value) instead, to perform the operation inplace on the original object.\n",
            "\n",
            "\n",
            "  x[col].fillna(\"\",inplace=True)\n",
            "/tmp/ipython-input-3329857824.py:15: FutureWarning: A value is trying to be set on a copy of a DataFrame or Series through chained assignment using an inplace method.\n",
            "The behavior will change in pandas 3.0. This inplace method will never work because the intermediate object on which we are setting values always behaves as a copy.\n",
            "\n",
            "For example, when doing 'df[col].method(value, inplace=True)', try using 'df.method({col: value}, inplace=True)' or df[col] = df[col].method(value) instead, to perform the operation inplace on the original object.\n",
            "\n",
            "\n",
            "  x[col].fillna(x[col].median(),inplace=True)\n"
          ]
        }
      ]
    },
    {
      "cell_type": "code",
      "source": [
        "print(master_df.isnull().any())"
      ],
      "metadata": {
        "colab": {
          "base_uri": "https://localhost:8080/"
        },
        "id": "cNlqUNgHFChh",
        "outputId": "e2276406-5415-4259-d683-ecb6428cf925",
        "collapsed": true
      },
      "execution_count": null,
      "outputs": [
        {
          "output_type": "stream",
          "name": "stdout",
          "text": [
            "CORPORATE_IDENTIFICATION_NUMBER           False\n",
            "COMPANY_NAME                              False\n",
            "COMPANY_STATUS                            False\n",
            "COMPANY_CLASS                             False\n",
            "COMPANY_CATEGORY                          False\n",
            "COMPANY_SUB_CATEGORY                      False\n",
            "DATE_OF_REGISTRATION                      False\n",
            "REGISTERED_STATE                          False\n",
            "AUTHORIZED_CAP                            False\n",
            "PAIDUP_CAPITAL                            False\n",
            "INDUSTRIAL_CLASS                          False\n",
            "PRINCIPAL_BUSINESS_ACTIVITY_AS_PER_CIN    False\n",
            "REGISTERED_OFFICE_ADDRESS                 False\n",
            "REGISTRAR_OF_COMPANIES                    False\n",
            "EMAIL_ADDR                                False\n",
            "LATEST_YEAR_ANNUAL_RETURN                 False\n",
            "LATEST_YEAR_FINANCIAL_STATEMENT           False\n",
            "STATE                                     False\n",
            "dtype: bool\n"
          ]
        }
      ]
    },
    {
      "cell_type": "code",
      "source": [
        "df_maha_clean.to_csv('/content/MCA-Insight-Engine/Data/Cleaned Data/Data_Gov_Maharashtra_clean.csv', index=False)\n",
        "df_delhi_clean.to_csv('/content/MCA-Insight-Engine/Data/Cleaned Data/Data_Gov_Delhi_clean.csv', index=False)\n",
        "df_Gujrat_clean.to_csv('/content/MCA-Insight-Engine/Data/Cleaned Data/Data_Gov_Gujarat_clean.csv', index=False)\n",
        "df_Karnataka_clean.to_csv('/content/MCA-Insight-Engine/Data/Cleaned Data/Data_Gov_Karnataka_clean.csv', index=False)\n",
        "df_Tamilnadu_clean.to_csv('/content/MCA-Insight-Engine/Data/Cleaned Data/Data_Gov_Tamil_Nadu_clean.csv', index=False)\n"
      ],
      "metadata": {
        "id": "SI_UvdKrxQDe"
      },
      "execution_count": null,
      "outputs": []
    }
  ]
}