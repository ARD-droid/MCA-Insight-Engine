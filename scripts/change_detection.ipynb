{
  "nbformat": 4,
  "nbformat_minor": 0,
  "metadata": {
    "colab": {
      "provenance": []
    },
    "kernelspec": {
      "name": "python3",
      "display_name": "Python 3"
    },
    "language_info": {
      "name": "python"
    }
  },
  "cells": [
    {
      "cell_type": "code",
      "execution_count": null,
      "metadata": {
        "id": "vvdviCF4zMDo"
      },
      "outputs": [],
      "source": [
        "import pandas as pd\n",
        "from datetime import datetime\n",
        "import os"
      ]
    },
    {
      "cell_type": "code",
      "source": [
        "# Paths to your snapshots\n",
        "snapshots = [\"/content/MCA-Insight-Engine/Data/Simulated Snapshots/day1_master.csv\",\n",
        "             \"/content/MCA-Insight-Engine/Data/Simulated Snapshots/day2_master.csv\",\n",
        "             \"/content/MCA-Insight-Engine/Data/Simulated Snapshots/day3_master.csv\"]\n",
        "# Columns to track for changes\n",
        "tracked_fields = [\"COMPANY_STATUS\", \"AUTHORIZED_CAP\", \"PAIDUP_CAPITAL\", \"COMPANY_NAME\"]\n",
        "output_folder = '/content/MCA-Insight-Engine/Data/Change logs'"
      ],
      "metadata": {
        "id": "vzrGB15xzkV8"
      },
      "execution_count": null,
      "outputs": []
    },
    {
      "cell_type": "code",
      "source": [
        "def detect_changes(prev_df, curr_df, date_str):\n",
        "    changes = []\n",
        "\n",
        "    prev_cin_set = set(prev_df[\"CORPORATE_IDENTIFICATION_NUMBER\"])\n",
        "    curr_cin_set = set(curr_df[\"CORPORATE_IDENTIFICATION_NUMBER\"])\n",
        "\n",
        "    # 1️⃣ New incorporations\n",
        "    new_cins = curr_cin_set - prev_cin_set\n",
        "    for cin in new_cins:\n",
        "        row = curr_df[curr_df[\"CORPORATE_IDENTIFICATION_NUMBER\"] == cin].iloc[0]\n",
        "        changes.append({\n",
        "            \"CIN\": cin,\n",
        "            \"Change_Type\": \"New Incorporation\",\n",
        "            \"Field_Changed\": \"ALL\",\n",
        "            \"Old_Value\": None,\n",
        "            \"New_Value\": row.to_dict(),\n",
        "            \"Date\": date_str\n",
        "        })\n",
        "\n",
        "    # 2️⃣ Deregistered companies\n",
        "    removed_cins = prev_cin_set - curr_cin_set\n",
        "    for cin in removed_cins:\n",
        "        row = prev_df[prev_df[\"CORPORATE_IDENTIFICATION_NUMBER\"] == cin].iloc[0]\n",
        "        changes.append({\n",
        "            \"CIN\": cin,\n",
        "            \"Change_Type\": \"Deregistered\",\n",
        "            \"Field_Changed\": \"ALL\",\n",
        "            \"Old_Value\": row.to_dict(),\n",
        "            \"New_Value\": None,\n",
        "            \"Date\": date_str\n",
        "        })\n",
        "\n",
        "    # 3️⃣ Field updates\n",
        "    common_cins = prev_cin_set & curr_cin_set\n",
        "    for cin in common_cins:\n",
        "        prev_row = prev_df[prev_df[\"CORPORATE_IDENTIFICATION_NUMBER\"] == cin].iloc[0]\n",
        "        curr_row = curr_df[curr_df[\"CORPORATE_IDENTIFICATION_NUMBER\"] == cin].iloc[0]\n",
        "\n",
        "        for field in tracked_fields:\n",
        "            if prev_row[field] != curr_row[field]:\n",
        "                changes.append({\n",
        "                    \"CIN\": cin,\n",
        "                    \"Change_Type\": \"Field Update\",\n",
        "                    \"Field_Changed\": field,\n",
        "                    \"Old_Value\": prev_row[field],\n",
        "                    \"New_Value\": curr_row[field],\n",
        "                    \"Date\": date_str\n",
        "                })\n",
        "\n",
        "    return changes\n",
        "\n",
        "# ----------------------------\n",
        "# Loop through snapshots to generate change logs\n",
        "# ----------------------------\n",
        "for i in range(1, len(snapshots)):\n",
        "    prev_df = pd.read_csv(snapshots[i-1])\n",
        "    curr_df = pd.read_csv(snapshots[i])\n",
        "    date_str = f\"Day{i+1}\"  # Day2, Day3, etc.\n",
        "\n",
        "    changes = detect_changes(prev_df, curr_df, date_str)\n",
        "\n",
        "    # Save changes even if empty\n",
        "    changes_df = pd.DataFrame(changes)\n",
        "    output_file = os.path.join(output_folder, f\"{date_str}_changes.csv\")\n",
        "    changes_df.to_csv(output_file, index=False)\n",
        "\n",
        "    print(f\"✅ Change log created: {output_file} ({len(changes)} changes detected)\")"
      ],
      "metadata": {
        "colab": {
          "base_uri": "https://localhost:8080/"
        },
        "id": "l_TMmxWW0G0z",
        "outputId": "159ef34f-0851-43a5-b1ca-a51eb99ed45b"
      },
      "execution_count": null,
      "outputs": [
        {
          "output_type": "stream",
          "name": "stdout",
          "text": [
            "✅ Change log created: /content/MCA-Insight-Engine/Data/Change logs/Day2_changes.csv (4 changes detected)\n",
            "✅ Change log created: /content/MCA-Insight-Engine/Data/Change logs/Day3_changes.csv (3 changes detected)\n"
          ]
        }
      ]
    }
  ]
}